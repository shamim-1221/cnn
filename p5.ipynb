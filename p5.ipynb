{
 "cells": [
  {
   "cell_type": "code",
   "execution_count": null,
   "id": "cd59e091",
   "metadata": {},
   "outputs": [],
   "source": [
    "#Aim: Implement Convolutional Neural Network for Digit Recognition on the MNIST Dataset."
   ]
  },
  {
   "cell_type": "code",
   "execution_count": null,
   "id": "f5f73d7c",
   "metadata": {},
   "outputs": [],
   "source": []
  },
  {
   "cell_type": "code",
   "execution_count": 1,
   "id": "7c73f655",
   "metadata": {},
   "outputs": [
    {
     "name": "stdout",
     "output_type": "stream",
     "text": [
      "Epoch 1/10\n",
      "469/469 [==============================] - 82s 166ms/step - loss: 0.2221 - accuracy: 0.9365 - val_loss: 0.0627 - val_accuracy: 0.9818\n",
      "Epoch 2/10\n",
      "469/469 [==============================] - 78s 167ms/step - loss: 0.0615 - accuracy: 0.9810 - val_loss: 0.0456 - val_accuracy: 0.9855\n",
      "Epoch 3/10\n",
      "469/469 [==============================] - 57s 121ms/step - loss: 0.0446 - accuracy: 0.9864 - val_loss: 0.0487 - val_accuracy: 0.9845\n",
      "Epoch 4/10\n",
      "469/469 [==============================] - 37s 79ms/step - loss: 0.0347 - accuracy: 0.9893 - val_loss: 0.0355 - val_accuracy: 0.9870\n",
      "Epoch 5/10\n",
      "469/469 [==============================] - 39s 82ms/step - loss: 0.0279 - accuracy: 0.9917 - val_loss: 0.0291 - val_accuracy: 0.9911\n",
      "Epoch 6/10\n",
      "469/469 [==============================] - 42s 90ms/step - loss: 0.0234 - accuracy: 0.9925 - val_loss: 0.0288 - val_accuracy: 0.9908\n",
      "Epoch 7/10\n",
      "469/469 [==============================] - 44s 95ms/step - loss: 0.0197 - accuracy: 0.9940 - val_loss: 0.0345 - val_accuracy: 0.9890\n",
      "Epoch 8/10\n",
      "469/469 [==============================] - 43s 92ms/step - loss: 0.0161 - accuracy: 0.9954 - val_loss: 0.0366 - val_accuracy: 0.9881\n",
      "Epoch 9/10\n",
      "469/469 [==============================] - 40s 84ms/step - loss: 0.0138 - accuracy: 0.9958 - val_loss: 0.0323 - val_accuracy: 0.9905\n",
      "Epoch 10/10\n",
      "469/469 [==============================] - 41s 87ms/step - loss: 0.0107 - accuracy: 0.9967 - val_loss: 0.0356 - val_accuracy: 0.9898\n",
      "313/313 [==============================] - 4s 12ms/step - loss: 0.0356 - accuracy: 0.9898\n",
      "Test accuracy: 0.989799976348877\n",
      "Sample image true label: 7\n",
      "Sample image predicted label: 7\n"
     ]
    },
    {
     "data": {
      "image/png": "[encoded data removed]",
      "text/plain": [
       "<Figure size 432x288 with 1 Axes>"
      ]
     },
     "metadata": {
      "needs_background": "light"
     },
     "output_type": "display_data"
    }
   ],
   "source": [
    "import tensorflow as tf\n",
    "from tensorflow import keras\n",
    "import numpy as np\n",
    "import matplotlib.pyplot as plt\n",
    "\n",
    "# Load the MNIST dataset\n",
    "(x_train, y_train), (x_test, y_test) = keras.datasets.mnist.load_data()\n",
    "\n",
    "# Preprocess the data\n",
    "x_train = x_train.astype(\"float32\") / 255.0\n",
    "x_test = x_test.astype(\"float32\") / 255.0\n",
    "x_train = np.expand_dims(x_train, -1)\n",
    "x_test = np.expand_dims(x_test, -1)\n",
    "\n",
    "# Define the CNN architecture\n",
    "model = keras.models.Sequential([\n",
    "    keras.layers.Conv2D(32, (3, 3), activation=\"relu\", input_shape=(28, 28, 1)),\n",
    "    keras.layers.MaxPooling2D((2, 2)),\n",
    "    keras.layers.Conv2D(64, (3, 3), activation=\"relu\"),\n",
    "    keras.layers.MaxPooling2D((2, 2)),\n",
    "    keras.layers.Flatten(),\n",
    "    keras.layers.Dense(64, activation=\"relu\"),\n",
    "    keras.layers.Dense(10, activation=\"softmax\")\n",
    " ])\n",
    "\n",
    "# Compile the model\n",
    "model.compile(optimizer=\"adam\", loss=\"sparse_categorical_crossentropy\",\n",
    "metrics=[\"accuracy\"])\n",
    "\n",
    "# Train the model\n",
    "history = model.fit(x_train, y_train, epochs=10, batch_size=128,\n",
    "validation_data=(x_test, y_test))\n",
    "\n",
    "# Evaluate the model on the test data\n",
    "test_loss, test_acc = model.evaluate(x_test, y_test)\n",
    "print(\"Test accuracy:\", test_acc)\n",
    "\n",
    "# Show predictions for a sample input image\n",
    "sample_img = x_test[0]\n",
    "sample_label = y_test[0]\n",
    "sample_img = np.expand_dims(sample_img, 0)\n",
    "pred = model.predict(sample_img)\n",
    "pred_label = np.argmax(pred)\n",
    "print(\"Sample image true label:\", sample_label)\n",
    "print(\"Sample image predicted label:\", pred_label)\n",
    "\n",
    "# Display the sample image\n",
    "plt.imshow(sample_img.squeeze(), cmap='gray')\n",
    "plt.show()\n",
    "\n",
    "\n"
   ]
  },
  {
   "cell_type": "code",
   "execution_count": null,
   "id": "21b48233",
   "metadata": {},
   "outputs": [],
   "source": []
  },
  {
   "cell_type": "code",
   "execution_count": null,
   "id": "2f9a9cbb",
   "metadata": {},
   "outputs": [],
   "source": []
  },
  {
   "cell_type": "code",
   "execution_count": null,
   "id": "b20ad7da",
   "metadata": {},
   "outputs": [],
   "source": []
  }
 ],
 "metadata": {
  "kernelspec": {
   "display_name": "Python 3 (ipykernel)",
   "language": "python",
   "name": "python3"
  },
  "language_info": {
   "codemirror_mode": {
    "name": "ipython",
    "version": 3
   },
   "file_extension": ".py",
   "mimetype": "text/x-python",
   "name": "python",
   "nbconvert_exporter": "python",
   "pygments_lexer": "ipython3",
   "version": "3.9.7"
  },
  "varInspector": {
   "cols": {
    "lenName": 16,
    "lenType": 16,
    "lenVar": 40
   },
   "kernels_config": {
    "python": {
     "delete_cmd_postfix": "",
     "delete_cmd_prefix": "del ",
     "library": "var_list.py",
     "varRefreshCmd": "print(var_dic_list())"
    },
    "r": {
     "delete_cmd_postfix": ") ",
     "delete_cmd_prefix": "rm(",
     "library": "var_list.r",
     "varRefreshCmd": "cat(var_dic_list()) "
    }
   },
   "types_to_exclude": [
    "module",
    "function",
    "builtin_function_or_method",
    "instance",
    "_Feature"
   ],
   "window_display": false
  }
 },
 "nbformat": 4,
 "nbformat_minor": 5
}
